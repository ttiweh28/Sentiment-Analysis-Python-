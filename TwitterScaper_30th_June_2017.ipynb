{
 "cells": [
  {
   "cell_type": "code",
   "execution_count": 2,
   "metadata": {},
   "outputs": [
    {
     "ename": "SyntaxError",
     "evalue": "Missing parentheses in call to 'print' (<ipython-input-2-cea80b473a23>, line 44)",
     "output_type": "error",
     "traceback": [
      "\u001b[1;36m  File \u001b[1;32m\"<ipython-input-2-cea80b473a23>\"\u001b[1;36m, line \u001b[1;32m44\u001b[0m\n\u001b[1;33m    print \"EMPTY\"\u001b[0m\n\u001b[1;37m                ^\u001b[0m\n\u001b[1;31mSyntaxError\u001b[0m\u001b[1;31m:\u001b[0m Missing parentheses in call to 'print'\n"
     ]
    }
   ],
   "source": [
    "#python 2.x\n",
    "import urllib2\n",
    "from urllib2 import urlopen\n",
    "from bs4 import BeautifulSoup\n",
    "import re\n",
    "import csv\n",
    "import sys\n",
    "import urllib\n",
    "\n",
    "#source=urllib2.urlopen(url).read()\n",
    "url = input ('ENTER HTML FILE NAME:')\n",
    "\n",
    "filename = input ('ENTER OUT PUT FILE NAME:')\n",
    "csvFile = open(filename, 'ab')\n",
    "csvWriter = csv.writer(csvFile)\n",
    "\n",
    "x=['DATES','SENDER','ARTICLE CONTENT']\n",
    "csvWriter.writerow(x)\n",
    "y=0\n",
    "\n",
    "page =  urllib.urlopen(url).read()\n",
    "#print page\n",
    "souplink = BeautifulSoup(page,\"html.parser\")\n",
    "#print souplink.prettify()\n",
    "#div = souplink.findAll('div', class_=\"stream-item-header\")\n",
    "div = souplink.findAll('div', class_=\"content\")\n",
    "for item in div:\n",
    "    #print \"*********************************************************************\"\n",
    "    #print item\n",
    "    #print \"-----------------------------\"\n",
    "    item2=str(item)\n",
    "    sender=BeautifulSoup(item2)\n",
    "    sender_name=sender.strong\n",
    "    sender_name=str(sender_name)\n",
    "    sender_name=re.sub(\"<.*?>\", \"\",sender_name)\n",
    "    date=sender.findAll('small')\n",
    "    date=str(date)\n",
    "    date=re.sub(\"<.*?>\", \"\",date)    \n",
    "    date=str(date)   \n",
    "    content=sender.findAll('p')\n",
    "    content=str(content)\n",
    "    content=re.sub(\"<.*?>\", \"\",content)\n",
    "    if sender_name==None:\n",
    "        print \"EMPTY\"\n",
    "    else:\n",
    "        y= y+1\n",
    "        print \"*****************************\"\n",
    "        print date\n",
    "        print \"-------------------\"\n",
    "        print sender_name\n",
    "        print \"------------------\"\n",
    "        print content\n",
    "        x=[date, sender_name, content]\n",
    "        csvWriter.writerow(x)  \n",
    "print 'NUMBER OF ARTICLES RETRIEVED:',y    "
   ]
  },
  {
   "cell_type": "code",
   "execution_count": null,
   "metadata": {
    "collapsed": true
   },
   "outputs": [],
   "source": []
  }
 ],
 "metadata": {
  "kernelspec": {
   "display_name": "Python 3",
   "language": "python",
   "name": "python3"
  },
  "language_info": {
   "codemirror_mode": {
    "name": "ipython",
    "version": 3
   },
   "file_extension": ".py",
   "mimetype": "text/x-python",
   "name": "python",
   "nbconvert_exporter": "python",
   "pygments_lexer": "ipython3",
   "version": "3.6.1"
  }
 },
 "nbformat": 4,
 "nbformat_minor": 1
}
