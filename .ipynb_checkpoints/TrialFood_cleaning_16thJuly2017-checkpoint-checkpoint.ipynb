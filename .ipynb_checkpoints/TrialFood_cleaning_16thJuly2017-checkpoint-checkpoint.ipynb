{
 "cells": [
  {
   "cell_type": "code",
   "execution_count": 1,
   "metadata": {},
   "outputs": [
    {
     "name": "stdout",
     "output_type": "stream",
     "text": [
      "\t\t\t\t\t\tgoogletag.cmd.push(function() { \t\t\t\t\t\t\tgoogletag.display('div-gpt-ad-1446561012149-0')\t\t\t\t\t\t\t;});\t\t\t\t\t\tBank of Uganda warns markets will double food prices soon\t\t\t\t\t\tgoogletag.cmd.push(function() {\t\t\t\t\t\t\tgoogletag.display('div-gpt-ad-1455287563\n"
     ]
    }
   ],
   "source": [
    "# Read csv dataset based on food key word from NewVision 2016\n",
    "import pandas as pd\n",
    "food=pd.read_csv('2016_food.csv')\n",
    "print food['ARTICLE CONTENT'][0][0:250]"
   ]
  },
  {
   "cell_type": "code",
   "execution_count": null,
   "metadata": {
    "collapsed": true
   },
   "outputs": [],
   "source": [
    "food=food.dropna(how='any')\n",
    "food['ARTICLE CONTENT']=food['ARTICLE CONTENT'].str.replace(\"(googletag\\.cmd\\.push\\(.*?\\);)\",\" \")\n",
    "food['ARTICLE CONTENT']=food['ARTICLE CONTENT'].str.replace(\"\\s+\", \" \")\n",
    "food['ARTICLE CONTENT']=food['ARTICLE CONTENT'].str.replace(\"\\-\\-\\>.*?\\-\\-\\>\", \" \")\n",
    "food"
   ]
  },
  {
   "cell_type": "code",
   "execution_count": 17,
   "metadata": {
    "collapsed": true
   },
   "outputs": [],
   "source": [
    "#SAVE A CLEANED FILE TO a csv file\n",
    "food_not_clean_NoMissing.to_csv('TfoodCleaned_2016.csv')"
   ]
  },
  {
   "cell_type": "code",
   "execution_count": null,
   "metadata": {},
   "outputs": [],
   "source": []
  },
  {
   "cell_type": "code",
   "execution_count": null,
   "metadata": {
    "collapsed": true
   },
   "outputs": [],
   "source": []
  },
  {
   "cell_type": "code",
   "execution_count": null,
   "metadata": {
    "collapsed": true
   },
   "outputs": [],
   "source": []
  },
  {
   "cell_type": "code",
   "execution_count": null,
   "metadata": {
    "collapsed": true
   },
   "outputs": [],
   "source": []
  }
 ],
 "metadata": {
  "kernelspec": {
   "display_name": "Python2",
   "language": "python",
   "name": "python2"
  },
  "language_info": {
   "codemirror_mode": {
    "name": "ipython",
    "version": 2
   },
   "file_extension": ".py",
   "mimetype": "text/x-python",
   "name": "python",
   "nbconvert_exporter": "python",
   "pygments_lexer": "ipython2",
   "version": "2.7.16"
  }
 },
 "nbformat": 4,
 "nbformat_minor": 1
}
